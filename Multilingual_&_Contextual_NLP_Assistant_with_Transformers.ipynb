{
  "nbformat": 4,
  "nbformat_minor": 0,
  "metadata": {
    "colab": {
      "provenance": [],
      "authorship_tag": "ABX9TyPEQOM6ArrscqMErdtTm5t4",
      "include_colab_link": true
    },
    "kernelspec": {
      "name": "python3",
      "display_name": "Python 3"
    },
    "language_info": {
      "name": "python"
    }
  },
  "cells": [
    {
      "cell_type": "markdown",
      "metadata": {
        "id": "view-in-github",
        "colab_type": "text"
      },
      "source": [
        "<a href=\"https://colab.research.google.com/github/SHUBHAMGAWADE7798/NLP-Programs/blob/main/Multilingual_%26_Contextual_NLP_Assistant_with_Transformers.ipynb\" target=\"_parent\"><img src=\"https://colab.research.google.com/assets/colab-badge.svg\" alt=\"Open In Colab\"/></a>"
      ]
    },
    {
      "cell_type": "code",
      "execution_count": 3,
      "metadata": {
        "colab": {
          "base_uri": "https://localhost:8080/"
        },
        "id": "32QxHHOsXuKb",
        "outputId": "913c78b5-91a1-4125-cdd8-b96fd449bf88"
      },
      "outputs": [
        {
          "name": "stdout",
          "output_type": "stream",
          "text": [
            "Choose a task:\n",
            "1.Machine Translation\n",
            "2.Mask Filling\n",
            "3.Question Answering\n",
            "4.Zero-Shot Classification\n",
            "Enter your choice (1-4): 1\n"
          ]
        },
        {
          "output_type": "stream",
          "name": "stderr",
          "text": [
            "No model was supplied, defaulted to google-t5/t5-base and revision a9723ea (https://huggingface.co/google-t5/t5-base).\n",
            "Using a pipeline without specifying a model name and revision in production is not recommended.\n",
            "Device set to use cpu\n"
          ]
        },
        {
          "output_type": "stream",
          "name": "stdout",
          "text": [
            "Enter English text to translate to French:hello myself shubham\n",
            "Translated Text: Bonjour moi-même shubham\n"
          ]
        }
      ],
      "source": [
        "from transformers import pipeline\n",
        "def machine_translation():\n",
        "  translator=pipeline(\"translation_en_to_fr\")\n",
        "  text=input(\"Enter English text to translate to French:\")\n",
        "  translation = translator(text)[0]['translation_text']\n",
        "  print (\"Translated Text:\",translation)\n",
        "def mask_filling():\n",
        "  masker = pipeline(\"fill-mask\")\n",
        "  text = input(\"Enter sentence with [MASK]: \")\n",
        "  result = masker(text)[0]['sequence']\n",
        "  print(\"Completed Sentence:\",result)\n",
        "def question_answering():\n",
        "   qa = pipeline(\"question-answering\")\n",
        "   context = input (\"'Enter context: \")\n",
        "   question = input(\"Enter your question: \")\n",
        "   answer = qa(question=question, context=context)['answer']\n",
        "   print(\"Answer:\",answer)\n",
        "def zero_shot_classification():\n",
        "  classifier = pipeline (\"zero-shot-classification\")\n",
        "  text = input(\"Enter the text to classify: \")\n",
        "  labels = input(\"Enter labels separated by commas: \").split(', ')\n",
        "  result = classifier(text, labels)\n",
        "  print(\"Best Label:\",result['labels'][0])\n",
        "\n",
        "print(\"Choose a task:\")\n",
        "print(\"1.Machine Translation\")\n",
        "print(\"2.Mask Filling\")\n",
        "print(\"3.Question Answering\")\n",
        "print(\"4.Zero-Shot Classification\")\n",
        "choice = input(\"Enter your choice (1-4): \")\n",
        "if choice == \"1\":\n",
        "     machine_translation()\n",
        "elif choice==\"2\":\n",
        "     mask_filling()\n",
        "elif choice == \"3\":\n",
        "     question_answering()\n",
        "elif choice == \"4\":\n",
        "     zero_shot_classification()\n",
        "else:\n",
        "     print(\"invalid choice. Please try again.\")"
      ]
    },
    {
      "cell_type": "code",
      "source": [],
      "metadata": {
        "id": "xVQdR-jfXvRi"
      },
      "execution_count": null,
      "outputs": []
    }
  ]
}